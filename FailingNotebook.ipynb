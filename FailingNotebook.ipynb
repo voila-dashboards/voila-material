{
 "cells": [
  {
   "cell_type": "code",
   "execution_count": null,
   "metadata": {},
   "outputs": [],
   "source": [
    "from ipywidgets import Label, Button, AppLayout, Checkbox, HBox, VBox, Output\n",
    "\n",
    "show = Button(description='Click me')\n",
    "out = Output()\n",
    "\n",
    "@out.capture(clear_output=True)\n",
    "def callback(*args):\n",
    "    print(args[0])\n",
    "\n",
    "class Container(VBox):\n",
    "    \n",
    "    def __init__(self, **kwargs):\n",
    "        self.main = HBox()\n",
    "        super().__init__(children=[self.main], **kwargs)\n",
    "        \n",
    "    def load(self, *args):\n",
    "        check1 = Checkbox(description=\"test1\")\n",
    "        check1.observe(callback, 'value')\n",
    "        check2 = Checkbox(description=\"test2\")\n",
    "        check2.observe(callback, 'value')\n",
    "        self.main.children = (check1, check2)\n",
    "\n",
    "center = Container()\n",
    "\n",
    "show.on_click(center.load)\n",
    "        \n",
    "AppLayout(\n",
    "    header=None,\n",
    "    left_sidebar=VBox((Label(description=\"hello\"), show, )),\n",
    "    center=center,\n",
    "    right_sidebar=None,\n",
    "    footer=out\n",
    ")"
   ]
  }
 ],
 "metadata": {
  "kernelspec": {
   "display_name": "Python [conda env:voila]",
   "language": "python",
   "name": "conda-env-voila-py"
  },
  "language_info": {
   "codemirror_mode": {
    "name": "ipython",
    "version": 3
   },
   "file_extension": ".py",
   "mimetype": "text/x-python",
   "name": "python",
   "nbconvert_exporter": "python",
   "pygments_lexer": "ipython3",
   "version": "3.8.5"
  }
 },
 "nbformat": 4,
 "nbformat_minor": 4
}
